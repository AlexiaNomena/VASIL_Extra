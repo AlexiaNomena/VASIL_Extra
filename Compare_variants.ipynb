{
 "cells": [
  {
   "cell_type": "code",
   "execution_count": 1,
   "id": "df976bb0",
   "metadata": {},
   "outputs": [
    {
     "name": "stdout",
     "output_type": "stream",
     "text": [
      "['T19I' 'R21T' 'S50L' 'G75D' 'S98F' 'V126A' 'V127F' 'G142D' 'W152L'\n",
      " 'F157S' 'R158G' 'R190S' 'L212I' 'D215G' 'L216F' 'H245N' 'A264D' 'I332V'\n",
      " 'G339H' 'G339D' 'K356T' 'R403K' 'K417T' 'K417N' 'K444N' 'V445G' 'V445H'\n",
      " 'G446S' 'N450D' 'L452M' 'L452W' 'L455S' 'T478K' 'E484A' 'E484K' 'F486P']\n"
     ]
    }
   ],
   "source": [
    "### Regenerate file formats because it is never consistent in the .txt files\n",
    "from scripts.file_formats import Generate_txt\n",
    "mut_BA2871 = [\"A27S\", \"G75D\", \"S98F\", \"V126A\", \"W152L\",\"R190S\",\n",
    "\"V213G\",\n",
    "\"D215G\",\n",
    "\"G339D\",\n",
    "\"S371F\",\n",
    "\"S373P\",\n",
    "\"S375F\",\n",
    "\"T376A\",\n",
    "\"D405N\",\n",
    "\"R408S\",\n",
    "\"K417T\",\n",
    "\"N440K\",\n",
    "\"K444N\",\n",
    "\"V445G\",\n",
    "\"L452M\",\n",
    "\"N460K\",\n",
    "\"S477N\",\n",
    "\"N481K\",\n",
    "\"E484A\",\n",
    "\"Q498R\",\n",
    "\"N501Y\",\n",
    "\"Y505H\",\n",
    "\"D614G\",\n",
    "\"P621S\",\n",
    "\"V642G\",\n",
    "\"H655Y\",\n",
    "\"N679R\",\n",
    "\"P681H\",\n",
    "\"S691P\",\n",
    "\"N764K\",\n",
    "\"T791I\",\n",
    "\"D796H\",\n",
    "\"D936G\",\n",
    "\"Q954H\",\n",
    "\"N969K\"]\n",
    "\n",
    "Generate_txt(mut_BA2871, \"Compare_variants/April-2024/BA.2.87.1_mutations.txt\")\n",
    "\n",
    "mut_JN1 = [\"T19I\",\n",
    "\"R21T\",\n",
    "\"A27S\",\n",
    "\"S50L\",\n",
    "\"V127F\",\n",
    "\"G142D\",\n",
    "\"F157S\",\n",
    "\"R158G\",\n",
    "\"L212I\",\n",
    "\"V213G\",\n",
    "\"L216F\",\n",
    "\"H245N\",\n",
    "\"A264D\",\n",
    "\"I332V\",\n",
    "\"G339H\",\n",
    "\"K356T\",\n",
    "\"S371F\",\n",
    "\"S373P\",\n",
    "\"S375F\",\n",
    "\"T376A\",\n",
    "\"R403K\",\n",
    "\"D405N\",\n",
    "\"R408S\",\n",
    "\"K417N\",\n",
    "\"N440K\",\n",
    "\"V445H\",\n",
    "\"G446S\",\n",
    "\"N450D\",\n",
    "\"L452W\",\n",
    "\"L455S\",\n",
    "\"N460K\",\n",
    "\"S477N\",\n",
    "\"T478K\",\n",
    "\"N481K\",\n",
    "\"E484K\",\n",
    "\"F486P\",\n",
    "\"Q498R\",\n",
    "\"N501Y\",\n",
    "\"Y505H\",\n",
    "\"E554K\",\n",
    "\"A570V\",\n",
    "\"D614G\",\n",
    "\"P621S\",\n",
    "\"H655Y\",\n",
    "\"N679K\",\n",
    "\"P681R\",\n",
    "\"N764K\",\n",
    "\"D796Y\",\n",
    "\"S939F\",\n",
    "\"Q954H\",\n",
    "\"N969K\",\n",
    "\"P1143L\"\n",
    "]\n",
    "Generate_txt(mut_JN1, \"Compare_variants/April-2024/JN.1_mutations.txt\")\n",
    "\n",
    "Diff = set(mut_JN1).symmetric_difference(set(mut_BA2871))\n",
    "import re\n",
    "import numpy as np\n",
    "DiffNTD_RBD = [x for x in Diff if int(re.findall(r'\\d+', x)[0])<=531]\n",
    "agsort = np.argsort([int(re.findall(r'\\d+', x)[0]) for x in DiffNTD_RBD])\n",
    "print(np.array(list(DiffNTD_RBD))[agsort])"
   ]
  },
  {
   "cell_type": "code",
   "execution_count": 2,
   "id": "7aa1cbda",
   "metadata": {},
   "outputs": [],
   "source": [
    "### Parametrization for Compute_FR (See VASIL rule get_cross_neutralization_major)\n",
    "\n",
    "import os\n",
    "spikes_dic = \"None\"\n",
    "mutations_dic = \"None\"\n",
    "dms_data_regrouped = os.path.join(os.getcwd(), \"data/epitope_data/dms_per_ab_per_site.csv\")\n",
    "lineage_sim = [\"JN.1\", \"BA.2.87.1\"]\n",
    "mut_major = [os.path.join(os.getcwd(), \"Compare_variants/April-2024/JN.1_mutationsprofile_outbreak.info_22-12-23.txt\"),\n",
    "                  os.path.join(os.getcwd(), \"Compare_variants/April-2024/JN.1_mutations.txt\")]\n",
    "cross_file = \"Compare_variants/April-2024/Cross_JN.1_BA.2.87.1.pck\"\n",
    "lineage_focus = None\n",
    "mutation_focus = None "
   ]
  },
  {
   "cell_type": "code",
   "execution_count": 3,
   "id": "88bde026",
   "metadata": {},
   "outputs": [
    {
     "name": "stdout",
     "output_type": "stream",
     "text": [
      "Mean IC50 per Epitope Classes\n",
      "  group      IC50\n",
      "0     A  0.168746\n",
      "1     B  0.098073\n",
      "2     C  0.389699\n",
      "3    D1  0.402943\n",
      "4    D2  0.112063\n",
      "5   E12  0.659345\n",
      "6    E3  1.605838\n",
      "7    F1  1.970766\n",
      "8    F2  0.550316\n",
      "9    F3  0.579354\n",
      "Assess major lineages/pseudogroups with the NTD-RBD mutation positions \n",
      "Cross reactivity countdown 1 out of 10 epitope clases\n",
      "Assess major lineages/pseudogroups with the NTD-RBD mutation positions \n",
      "Cross reactivity countdown 2 out of 10 epitope clases\n",
      "Assess major lineages/pseudogroups with the NTD-RBD mutation positions \n",
      "Cross reactivity countdown 3 out of 10 epitope clases\n",
      "Assess major lineages/pseudogroups with the NTD-RBD mutation positions \n",
      "Cross reactivity countdown 4 out of 10 epitope clases\n",
      "Assess major lineages/pseudogroups with the NTD-RBD mutation positions \n",
      "Cross reactivity countdown 5 out of 10 epitope clases\n",
      "Assess major lineages/pseudogroups with the NTD-RBD mutation positions \n",
      "Cross reactivity countdown 6 out of 10 epitope clases\n",
      "Assess major lineages/pseudogroups with the NTD-RBD mutation positions \n",
      "Cross reactivity countdown 7 out of 10 epitope clases\n",
      "Assess major lineages/pseudogroups with the NTD-RBD mutation positions \n",
      "Cross reactivity countdown 8 out of 10 epitope clases\n",
      "Assess major lineages/pseudogroups with the NTD-RBD mutation positions \n",
      "Cross reactivity countdown 9 out of 10 epitope clases\n",
      "Assess major lineages/pseudogroups with the NTD-RBD mutation positions \n",
      "Cross reactivity countdown 10 out of 10 epitope clases\n"
     ]
    }
   ],
   "source": [
    "### Generate Cross between variants (See VASIL rule get_cross_neutralization_major)\n",
    "### Ordered Argv params: {input.spikes_dic} {input.mutations_dic} {input.dms_data_regrouped} {params.lineage_focus} {params.mutation_focus} {params.num_sim} {params.lineage_sim} {params.mut_major} {output.cross_major}\n",
    "!python scripts/Cross_neutralization/Compute_FR_major.py None None \"data/epitope_data/dms_per_ab_per_site.csv\" None None 2 \"JN.1\" \"BA.2.87.1\" \"Compare_variants/April-2024/JN.1_mutations.txt\" \"Compare_variants/April-2024/BA.2.87.1_mutations.txt\" \"Compare_variants/April-2024/Cross_JN.1_BA.2.87.1.pck\"  "
   ]
  },
  {
   "cell_type": "code",
   "execution_count": 4,
   "id": "df4c5e45",
   "metadata": {},
   "outputs": [
    {
     "name": "stdout",
     "output_type": "stream",
     "text": [
      "/Users/raharinirina/Documents/Immune_Waning/VASIL_Extra/scripts/plotting/Cross_maps.py:526: RuntimeWarning: More than 20 figures have been opened. Figures created through the pyplot interface (`matplotlib.pyplot.figure`) are retained until explicitly closed and may consume too much memory. (To control this warning, see the rcParam `figure.max_open_warning`). Consider using `matplotlib.pyplot.close()`.\r\n",
      "  fig_fr = plt.figure(figsize = (16*u, 13*u))\r\n"
     ]
    }
   ],
   "source": [
    "### Plotting Cross Reactivity Maps (See VASILplots rule plot_cross_major)\n",
    "### Ordered Argv params: {input.cross_spk} {params.lin_name} {params.cross_lin} {output.res_dir} {params.plot_major} {params.not_add}\n",
    "!python scripts/plotting/Cross_maps.py \"Compare_variants/April-2024/Cross_JN.1_BA.2.87.1.pck\" \"Wuhan-Hu-1\" None \"Compare_variants/April-2024/Cross_figs\" True not_add"
   ]
  },
  {
   "cell_type": "code",
   "execution_count": 5,
   "id": "b6687d97",
   "metadata": {},
   "outputs": [
    {
     "name": "stdout",
     "output_type": "stream",
     "text": [
      "Computing P_Neut, used mean fitted IC50 1.52458 for JN.1 vs. JN.1 antigen (1/1)\n",
      "Computing P_Neut, used mean fitted IC50 1.52458 for BA.2.87.1 vs. JN.1 antigen (1/1)\n"
     ]
    }
   ],
   "source": [
    "### Generate Neutralization probability against specific antigen (separated script in this repository)\n",
    "### Ordered Argv params: {cross_detla} {cross_neut_file} {dms_data} {vaccine_efficacy_data} {num_groups} {groups_list} {num_antigen} {antigen_list} {output_dir}\n",
    "\n",
    "!python scripts/Expected_immunized/PNeut.py \"data/Cross_with_delta_valitation.pck\" \"Compare_variants/April-2024/Cross_JN.1_BA.2.87.1.pck\" \"data/epitope_data/dms_per_ab_per_site.csv\" \"data/Clinical_Delta_VE.xlsx\" 2 \"JN.1\" \"BA.2.87.1\" 1 \"JN.1\" \"Compare_variants/April-2024\""
   ]
  },
  {
   "cell_type": "code",
   "execution_count": 6,
   "id": "a79bbee0",
   "metadata": {},
   "outputs": [],
   "source": [
    "### Plotting Neutralization Curves (See VASILplots rule plot_pneut_groups)\n",
    "### Ordered Argv params {input.pk_file} {input.pneut_dir} {output.res_dir} {params.len_groups} {params.lin_name} {params.col_pneut} {params.antigen}\n",
    "!python scripts/plotting/P_neut_groups.py \"data/PK_for_all_Epitopes.csv\" \"Compare_variants/April-2024\" \"Compare_variants/April-2024/PNeut_figs\" 2 \"JN.1\" \"BA.2.87.1\" \"orange\" \"#1f77b4\" \"JN.1\" "
   ]
  },
  {
   "cell_type": "code",
   "execution_count": 7,
   "id": "6184b093",
   "metadata": {},
   "outputs": [],
   "source": [
    "### Parametrization for Compute_FR (See VASIL rule get_cross_group)\n",
    "spikes_dic = \"None\"\n",
    "mutations_dic = \"None\"\n",
    "dms_data_regrouped = os.path.join(os.getcwd(), \"data/epitope_data/dms_per_ab_per_site.csv\")\n",
    "lineage_focus= [\"JN.1\", \"BA.2.87.1\"]\n",
    "mutations_focus = [os.path.join(os.getcwd(), \"Compare_variants/April-2024/JN.1_mutations.txt\"),\n",
    "                  os.path.join(os.getcwd(), \"Compare_variants/April-2024/JN.1_mutations.txt\")]\n",
    "cross_delta = \"None\"\n",
    "cross_spkdir = \"Compare_variants/April-2024\""
   ]
  },
  {
   "cell_type": "code",
   "execution_count": 8,
   "id": "1b4e90ce",
   "metadata": {},
   "outputs": [
    {
     "name": "stdout",
     "output_type": "stream",
     "text": [
      "data/epitope_data/dms_per_ab_per_site.csv\n",
      "Cross reactivity computation might take a while\n",
      "Assess lineage JN.1| 1 out of 2 with the NTD-RBD mutation positions ['19', '21', '27', '50', '127', '142', '157', '158', '212', '213', '216', '245', '264', '332', '339', '356', '371', '373', '375', '376', '403', '405', '408', '417', '440', '445', '446', '450', '452', '455', '460', '477', '478', '481', '484', '486', '498', '501', '505', '554', '570', '614', '621', '655', '679', '681', '764', '796', '939', '954', '969', '1143']\n",
      "Cross reactivity Epitope A, countdown 1 out of 10 epitope clases\n",
      "Assess lineage JN.1| 1 out of 2 with the NTD-RBD mutation positions ['19', '21', '27', '50', '127', '142', '157', '158', '212', '213', '216', '245', '264', '332', '339', '356', '371', '373', '375', '376', '403', '405', '408', '417', '440', '445', '446', '450', '452', '455', '460', '477', '478', '481', '484', '486', '498', '501', '505', '554', '570', '614', '621', '655', '679', '681', '764', '796', '939', '954', '969', '1143']\n",
      "Cross reactivity Epitope B, countdown 2 out of 10 epitope clases\n",
      "Assess lineage JN.1| 1 out of 2 with the NTD-RBD mutation positions ['19', '21', '27', '50', '127', '142', '157', '158', '212', '213', '216', '245', '264', '332', '339', '356', '371', '373', '375', '376', '403', '405', '408', '417', '440', '445', '446', '450', '452', '455', '460', '477', '478', '481', '484', '486', '498', '501', '505', '554', '570', '614', '621', '655', '679', '681', '764', '796', '939', '954', '969', '1143']\n",
      "Cross reactivity Epitope C, countdown 3 out of 10 epitope clases\n",
      "Assess lineage JN.1| 1 out of 2 with the NTD-RBD mutation positions ['19', '21', '27', '50', '127', '142', '157', '158', '212', '213', '216', '245', '264', '332', '339', '356', '371', '373', '375', '376', '403', '405', '408', '417', '440', '445', '446', '450', '452', '455', '460', '477', '478', '481', '484', '486', '498', '501', '505', '554', '570', '614', '621', '655', '679', '681', '764', '796', '939', '954', '969', '1143']\n",
      "Cross reactivity Epitope D1, countdown 4 out of 10 epitope clases\n",
      "Assess lineage JN.1| 1 out of 2 with the NTD-RBD mutation positions ['19', '21', '27', '50', '127', '142', '157', '158', '212', '213', '216', '245', '264', '332', '339', '356', '371', '373', '375', '376', '403', '405', '408', '417', '440', '445', '446', '450', '452', '455', '460', '477', '478', '481', '484', '486', '498', '501', '505', '554', '570', '614', '621', '655', '679', '681', '764', '796', '939', '954', '969', '1143']\n",
      "Cross reactivity Epitope D2, countdown 5 out of 10 epitope clases\n",
      "Assess lineage JN.1| 1 out of 2 with the NTD-RBD mutation positions ['19', '21', '27', '50', '127', '142', '157', '158', '212', '213', '216', '245', '264', '332', '339', '356', '371', '373', '375', '376', '403', '405', '408', '417', '440', '445', '446', '450', '452', '455', '460', '477', '478', '481', '484', '486', '498', '501', '505', '554', '570', '614', '621', '655', '679', '681', '764', '796', '939', '954', '969', '1143']\n",
      "Cross reactivity Epitope E12, countdown 6 out of 10 epitope clases\n",
      "Assess lineage JN.1| 1 out of 2 with the NTD-RBD mutation positions ['19', '21', '27', '50', '127', '142', '157', '158', '212', '213', '216', '245', '264', '332', '339', '356', '371', '373', '375', '376', '403', '405', '408', '417', '440', '445', '446', '450', '452', '455', '460', '477', '478', '481', '484', '486', '498', '501', '505', '554', '570', '614', '621', '655', '679', '681', '764', '796', '939', '954', '969', '1143']\n",
      "Cross reactivity Epitope E3, countdown 7 out of 10 epitope clases\n",
      "Assess lineage JN.1| 1 out of 2 with the NTD-RBD mutation positions ['19', '21', '27', '50', '127', '142', '157', '158', '212', '213', '216', '245', '264', '332', '339', '356', '371', '373', '375', '376', '403', '405', '408', '417', '440', '445', '446', '450', '452', '455', '460', '477', '478', '481', '484', '486', '498', '501', '505', '554', '570', '614', '621', '655', '679', '681', '764', '796', '939', '954', '969', '1143']\n",
      "Cross reactivity Epitope F1, countdown 8 out of 10 epitope clases\n",
      "Assess lineage JN.1| 1 out of 2 with the NTD-RBD mutation positions ['19', '21', '27', '50', '127', '142', '157', '158', '212', '213', '216', '245', '264', '332', '339', '356', '371', '373', '375', '376', '403', '405', '408', '417', '440', '445', '446', '450', '452', '455', '460', '477', '478', '481', '484', '486', '498', '501', '505', '554', '570', '614', '621', '655', '679', '681', '764', '796', '939', '954', '969', '1143']\n",
      "Cross reactivity Epitope F2, countdown 9 out of 10 epitope clases\n",
      "Assess lineage JN.1| 1 out of 2 with the NTD-RBD mutation positions ['19', '21', '27', '50', '127', '142', '157', '158', '212', '213', '216', '245', '264', '332', '339', '356', '371', '373', '375', '376', '403', '405', '408', '417', '440', '445', '446', '450', '452', '455', '460', '477', '478', '481', '484', '486', '498', '501', '505', '554', '570', '614', '621', '655', '679', '681', '764', '796', '939', '954', '969', '1143']\n",
      "Cross reactivity Epitope F3, countdown 10 out of 10 epitope clases\n",
      "Cross reactivity Epitope NTD\n",
      "Assess lineage BA.2.87.1| 2 out of 2 with the NTD-RBD mutation positions ['27', '75', '98', '126', '152', '190', '213', '215', '339', '371', '373', '375', '376', '405', '408', '417', '440', '444', '445', '452', '460', '477', '481', '484', '498', '501', '505', '614', '621', '642', '655', '679', '681', '691', '764', '791', '796', '936', '954', '969']\n",
      "Cross reactivity Epitope A, countdown 1 out of 10 epitope clases\n",
      "Assess lineage BA.2.87.1| 2 out of 2 with the NTD-RBD mutation positions ['27', '75', '98', '126', '152', '190', '213', '215', '339', '371', '373', '375', '376', '405', '408', '417', '440', '444', '445', '452', '460', '477', '481', '484', '498', '501', '505', '614', '621', '642', '655', '679', '681', '691', '764', '791', '796', '936', '954', '969']\n",
      "Cross reactivity Epitope B, countdown 2 out of 10 epitope clases\n",
      "Assess lineage BA.2.87.1| 2 out of 2 with the NTD-RBD mutation positions ['27', '75', '98', '126', '152', '190', '213', '215', '339', '371', '373', '375', '376', '405', '408', '417', '440', '444', '445', '452', '460', '477', '481', '484', '498', '501', '505', '614', '621', '642', '655', '679', '681', '691', '764', '791', '796', '936', '954', '969']\n",
      "Cross reactivity Epitope C, countdown 3 out of 10 epitope clases\n",
      "Assess lineage BA.2.87.1| 2 out of 2 with the NTD-RBD mutation positions ['27', '75', '98', '126', '152', '190', '213', '215', '339', '371', '373', '375', '376', '405', '408', '417', '440', '444', '445', '452', '460', '477', '481', '484', '498', '501', '505', '614', '621', '642', '655', '679', '681', '691', '764', '791', '796', '936', '954', '969']\n",
      "Cross reactivity Epitope D1, countdown 4 out of 10 epitope clases\n",
      "Assess lineage BA.2.87.1| 2 out of 2 with the NTD-RBD mutation positions ['27', '75', '98', '126', '152', '190', '213', '215', '339', '371', '373', '375', '376', '405', '408', '417', '440', '444', '445', '452', '460', '477', '481', '484', '498', '501', '505', '614', '621', '642', '655', '679', '681', '691', '764', '791', '796', '936', '954', '969']\n",
      "Cross reactivity Epitope D2, countdown 5 out of 10 epitope clases\n",
      "Assess lineage BA.2.87.1| 2 out of 2 with the NTD-RBD mutation positions ['27', '75', '98', '126', '152', '190', '213', '215', '339', '371', '373', '375', '376', '405', '408', '417', '440', '444', '445', '452', '460', '477', '481', '484', '498', '501', '505', '614', '621', '642', '655', '679', '681', '691', '764', '791', '796', '936', '954', '969']\n",
      "Cross reactivity Epitope E12, countdown 6 out of 10 epitope clases\n",
      "Assess lineage BA.2.87.1| 2 out of 2 with the NTD-RBD mutation positions ['27', '75', '98', '126', '152', '190', '213', '215', '339', '371', '373', '375', '376', '405', '408', '417', '440', '444', '445', '452', '460', '477', '481', '484', '498', '501', '505', '614', '621', '642', '655', '679', '681', '691', '764', '791', '796', '936', '954', '969']\n",
      "Cross reactivity Epitope E3, countdown 7 out of 10 epitope clases\n",
      "Assess lineage BA.2.87.1| 2 out of 2 with the NTD-RBD mutation positions ['27', '75', '98', '126', '152', '190', '213', '215', '339', '371', '373', '375', '376', '405', '408', '417', '440', '444', '445', '452', '460', '477', '481', '484', '498', '501', '505', '614', '621', '642', '655', '679', '681', '691', '764', '791', '796', '936', '954', '969']\n",
      "Cross reactivity Epitope F1, countdown 8 out of 10 epitope clases\n"
     ]
    },
    {
     "name": "stdout",
     "output_type": "stream",
     "text": [
      "Assess lineage BA.2.87.1| 2 out of 2 with the NTD-RBD mutation positions ['27', '75', '98', '126', '152', '190', '213', '215', '339', '371', '373', '375', '376', '405', '408', '417', '440', '444', '445', '452', '460', '477', '481', '484', '498', '501', '505', '614', '621', '642', '655', '679', '681', '691', '764', '791', '796', '936', '954', '969']\n",
      "Cross reactivity Epitope F2, countdown 9 out of 10 epitope clases\n",
      "Assess lineage BA.2.87.1| 2 out of 2 with the NTD-RBD mutation positions ['27', '75', '98', '126', '152', '190', '213', '215', '339', '371', '373', '375', '376', '405', '408', '417', '440', '444', '445', '452', '460', '477', '481', '484', '498', '501', '505', '614', '621', '642', '655', '679', '681', '691', '764', '791', '796', '936', '954', '969']\n",
      "Cross reactivity Epitope F3, countdown 10 out of 10 epitope clases\n",
      "Cross reactivity Epitope NTD\n"
     ]
    }
   ],
   "source": [
    "### Generate Cross against WILD Type (See VASIL rule get_cross_group)\n",
    "### Ordered Argv params: {input.spikes_dic} {input.mutations_dic} {input.dms_data_regrouped} {params.len_groups} {params.lineage_focus} {params.mutation_focus} {params.cross_delta} {output.cross_spkdir}\n",
    "!python scripts/Cross_neutralization/Compute_FR.py \"None\" \"None\" \"data/epitope_data/dms_per_ab_per_site.csv\" 2 \"JN.1\" \"BA.2.87.1\" \"Compare_variants/April-2024/JN.1_mutations.txt\" \"Compare_variants/April-2024/BA.2.87.1_mutations.txt\" None \"Compare_variants/April-2024\""
   ]
  },
  {
   "cell_type": "code",
   "execution_count": null,
   "id": "2b95cc94",
   "metadata": {},
   "outputs": [],
   "source": []
  }
 ],
 "metadata": {
  "kernelspec": {
   "display_name": "VASIL3",
   "language": "python",
   "name": "vasil3"
  },
  "language_info": {
   "codemirror_mode": {
    "name": "ipython",
    "version": 3
   },
   "file_extension": ".py",
   "mimetype": "text/x-python",
   "name": "python",
   "nbconvert_exporter": "python",
   "pygments_lexer": "ipython3",
   "version": "3.11.3"
  }
 },
 "nbformat": 4,
 "nbformat_minor": 5
}
