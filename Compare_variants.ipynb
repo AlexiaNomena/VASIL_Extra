{
 "cells": [
  {
   "cell_type": "code",
   "execution_count": null,
   "id": "7aa1cbda",
   "metadata": {},
   "outputs": [],
   "source": [
    "spikes_dic = \"None\"\n",
    "mutations_dic = \"None\"\n",
    "dms_data_regrouped=\"Compare_variants/epitope_data/dms_per_ab_per_site.csv\"\n",
    "lineage_focus = [\"JN.1\", \"BA.2.87.1\"]\n"
   ]
  }
 ],
 "metadata": {
  "kernelspec": {
   "display_name": "VASIL3",
   "language": "python",
   "name": "vasil3"
  },
  "language_info": {
   "codemirror_mode": {
    "name": "ipython",
    "version": 3
   },
   "file_extension": ".py",
   "mimetype": "text/x-python",
   "name": "python",
   "nbconvert_exporter": "python",
   "pygments_lexer": "ipython3",
   "version": "3.11.3"
  }
 },
 "nbformat": 4,
 "nbformat_minor": 5
}
